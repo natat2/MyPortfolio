{
 "cells": [
  {
   "cell_type": "markdown",
   "id": "5eb8aab8",
   "metadata": {},
   "source": [
    "\"3 4\"のような二つの整数の積が偶数か奇数か判定する"
   ]
  },
  {
   "cell_type": "code",
   "execution_count": 1,
   "id": "de955fda",
   "metadata": {},
   "outputs": [
    {
     "name": "stdout",
     "output_type": "stream",
     "text": [
      "Even\n"
     ]
    }
   ],
   "source": [
    "a,b=map(int,input().split())\n",
    "if (a*b)%2==0:\n",
    "  print(\"Even\")\n",
    "else:\n",
    "  print(\"Odd\")"
   ]
  }
 ],
 "metadata": {
  "kernelspec": {
   "display_name": "Jupyter",
   "language": "python",
   "name": "python3"
  },
  "language_info": {
   "codemirror_mode": {
    "name": "ipython",
    "version": 3
   },
   "file_extension": ".py",
   "mimetype": "text/x-python",
   "name": "python",
   "nbconvert_exporter": "python",
   "pygments_lexer": "ipython3",
   "version": "3.12.0"
  }
 },
 "nbformat": 4,
 "nbformat_minor": 5
}
