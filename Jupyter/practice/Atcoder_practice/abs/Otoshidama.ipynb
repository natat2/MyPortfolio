{
 "cells": [
  {
   "cell_type": "markdown",
   "id": "39038211",
   "metadata": {},
   "source": [
    "\"9 45000\"のようにN（枚数）,Y（合計金額）である。\n",
    "日本でよく使われる紙幣は、10000 円札、5000 円札、1000 円札です。以下、「お札」とはこれらのみを指します。青橋くんが言うには、彼が祖父から受け取ったお年玉袋にはお札がN枚入っていて、合計でY円だったそうですが、嘘かもしれません。このような状況がありうるか判定し、ありうる場合はお年玉袋の中身の候補を一つ見つけてください。なお、彼の祖父は十分裕福であり、お年玉袋は十分大きかったものとします。\n",
    "10000、5000、1000のお札が何枚必要かを出力。該当しない場合はすべて―1で返す。"
   ]
  },
  {
   "cell_type": "code",
   "execution_count": null,
   "id": "b7b07f82",
   "metadata": {},
   "outputs": [],
   "source": [
    "N,Y=map(int,input().split())\n",
    "for i in range(N+1):\n",
    "  for j in range(N-i+1):\n",
    "    k=N-i-j\n",
    "    if i*10000+j*5000+k*1000==Y:\n",
    "      print(f\"{i} {j} {k}\")\n",
    "      exit()\n",
    "print(f\"-1 -1 -1\")"
   ]
  }
 ],
 "metadata": {
  "kernelspec": {
   "display_name": "Jupyter",
   "language": "python",
   "name": "python3"
  },
  "language_info": {
   "name": "python",
   "version": "3.12.0"
  }
 },
 "nbformat": 4,
 "nbformat_minor": 5
}
