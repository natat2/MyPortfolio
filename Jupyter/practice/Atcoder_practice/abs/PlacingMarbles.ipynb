{
 "cells": [
  {
   "cell_type": "markdown",
   "id": "94d3432f",
   "metadata": {},
   "source": [
    "\"101\"のような０と1で構成された文字列に1がいくつ含まれているか"
   ]
  },
  {
   "cell_type": "code",
   "execution_count": null,
   "id": "4d6b033b",
   "metadata": {},
   "outputs": [],
   "source": [
    "my_string=str(input())\n",
    "count=0\n",
    "for char in my_string:\n",
    "  if char==\"1\":\n",
    "    count+=1\n",
    "print(count)"
   ]
  }
 ],
 "metadata": {
  "kernelspec": {
   "display_name": "Jupyter",
   "language": "python",
   "name": "python3"
  },
  "language_info": {
   "name": "python",
   "version": "3.12.0"
  }
 },
 "nbformat": 4,
 "nbformat_minor": 5
}
