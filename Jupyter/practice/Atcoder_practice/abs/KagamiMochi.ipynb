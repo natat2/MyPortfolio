{
 "cells": [
  {
   "cell_type": "markdown",
   "id": "11036504",
   "metadata": {},
   "source": [
    "\"4\n",
    "10\n",
    "8\n",
    "8\n",
    "6\"\n",
    "のように一列目がN（餅の総数）を表しており、以降の列がそれらの直径を表している。これらを重ねたとき何段の鏡餅になるかをもとめるもの。"
   ]
  },
  {
   "cell_type": "code",
   "execution_count": null,
   "id": "562739a9",
   "metadata": {
    "vscode": {
     "languageId": "plaintext"
    }
   },
   "outputs": [],
   "source": [
    "N=int(input())\n",
    "total=[int(input()) for i in range(N)]\n",
    "settedtotal=set(total)\n",
    "print(len(settedtotal))"
   ]
  }
 ],
 "metadata": {
  "language_info": {
   "name": "python"
  }
 },
 "nbformat": 4,
 "nbformat_minor": 5
}
