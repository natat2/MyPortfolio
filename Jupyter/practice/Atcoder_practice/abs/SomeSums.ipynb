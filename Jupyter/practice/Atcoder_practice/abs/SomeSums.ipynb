{
 "cells": [
  {
   "cell_type": "markdown",
   "id": "060294e9",
   "metadata": {},
   "source": [
    "\"20 2 5\"はN,A,Bであり、1 以上N以下の整数のうち、10進法での各桁の和がA以上B以下であるものの総和"
   ]
  },
  {
   "cell_type": "code",
   "execution_count": null,
   "id": "ebdc3342",
   "metadata": {},
   "outputs": [],
   "source": [
    "def check(n):\n",
    "  s=str(n)\n",
    "  digits=[int(digit) for digit in s]\n",
    "  return sum(digits)\n",
    "all=0\n",
    "N,A,B=map(int,input().split())\n",
    "for i in range(1,N+1):\n",
    "  for j in range(A,B+1):\n",
    "      if check(i)==j:\n",
    "        all+=i\n",
    "print(all)"
   ]
  }
 ],
 "metadata": {
  "kernelspec": {
   "display_name": "Jupyter",
   "language": "python",
   "name": "python3"
  },
  "language_info": {
   "name": "python",
   "version": "3.12.0"
  }
 },
 "nbformat": 4,
 "nbformat_minor": 5
}
