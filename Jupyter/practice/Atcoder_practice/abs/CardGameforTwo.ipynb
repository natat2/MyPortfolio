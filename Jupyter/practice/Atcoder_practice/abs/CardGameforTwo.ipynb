{
 "cells": [
  {
   "cell_type": "markdown",
   "id": "f58fa385",
   "metadata": {},
   "source": [
    "\"2\n",
    "3 1\"\n",
    "のように一列目がN、二列目がそのNに応じた個数のカードを使ってゲームをする。\n",
    "Alice と Bob は, これらのカードを使ってゲームを行います. ゲームでは, Alice と Bob が交互に 1 枚ずつカードを取っていきます. Alice が先にカードを取ります.\n",
    "2 人がすべてのカードを取ったときゲームは終了し, 取ったカードの数の合計がその人の得点になります. 2 人とも自分の得点を最大化するように最適な戦略を取った時, Alice は Bob より何点多く取るか求めてください."
   ]
  },
  {
   "cell_type": "code",
   "execution_count": null,
   "id": "382f4730",
   "metadata": {},
   "outputs": [],
   "source": [
    "def alice(all):\n",
    "  out=all[0]\n",
    "  all.pop(0)\n",
    "  return out\n",
    "\n",
    "def bob(all):\n",
    "  out=all[0]\n",
    "  all.pop(0)\n",
    "  return out\n",
    "\n",
    "N=int(input())\n",
    "original=list(map(int,input().split()))\n",
    "OrderBigger=sorted(original,reverse=True)\n",
    "al_total=0\n",
    "bo_total=0\n",
    "for i in range(N):\n",
    "  if i%2==0:\n",
    "    al_total+=bob(OrderBigger)\n",
    "  else:\n",
    "    bo_total+=alice(OrderBigger)\n",
    "print(al_total-bo_total)"
   ]
  }
 ],
 "metadata": {
  "kernelspec": {
   "display_name": "Jupyter",
   "language": "python",
   "name": "python3"
  },
  "language_info": {
   "name": "python",
   "version": "3.12.0"
  }
 },
 "nbformat": 4,
 "nbformat_minor": 5
}
