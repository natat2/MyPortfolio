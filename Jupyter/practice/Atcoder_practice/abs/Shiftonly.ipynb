{
 "cells": [
  {
   "cell_type": "markdown",
   "id": "3c78ac08",
   "metadata": {},
   "source": [
    "\"3\n",
    "8 12 40\"\n",
    "のように一列目に個数、二列目にその個数に応じた整数がある。\n",
    "書かれている整数すべてを2で割ったものに置き換えるという操作を行えた回数を出力する。"
   ]
  },
  {
   "cell_type": "code",
   "execution_count": null,
   "id": "612d1a27",
   "metadata": {},
   "outputs": [],
   "source": [
    "N=int(input())\n",
    "check_odd=list(map(int,input().split()))\n",
    "cal_count=0\n",
    "while True:\n",
    "  count=0\n",
    "  for i in range(N):\n",
    "   if check_odd[i]%2==0:\n",
    "     count+=1\n",
    "  if count==N:\n",
    "    cal_count+=1\n",
    "    for j in range(N):\n",
    "      check_odd[j]/=2\n",
    "  else:\n",
    "    break\n",
    "print(cal_count)"
   ]
  }
 ],
 "metadata": {
  "kernelspec": {
   "display_name": "Jupyter",
   "language": "python",
   "name": "python3"
  },
  "language_info": {
   "name": "python",
   "version": "3.12.0"
  }
 },
 "nbformat": 4,
 "nbformat_minor": 5
}
