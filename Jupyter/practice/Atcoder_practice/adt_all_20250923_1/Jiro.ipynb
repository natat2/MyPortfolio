{
 "cells": [
  {
   "cell_type": "code",
   "execution_count": null,
   "id": "b250b404",
   "metadata": {},
   "outputs": [
    {
     "name": "stdout",
     "output_type": "stream",
     "text": [
      "B\n"
     ]
    }
   ],
   "source": [
    "S=input(\"勝敗をスペース区切りで3つ入力（例: > < >）: \").split()\n",
    "A=0\n",
    "B=0\n",
    "C=0\n",
    "def AtoB(s,A,B):\n",
    "  if s==\">\":\n",
    "    A+=1\n",
    "  else:\n",
    "    B+=1\n",
    "  return A,B\n",
    "def AtoC(s,A,C):\n",
    "  if s==\">\":\n",
    "    A+=1\n",
    "  else:\n",
    "    C+=1\n",
    "  return A,C\n",
    "def BtoC(s,B,C):\n",
    "  if s==\">\":\n",
    "    B+=1\n",
    "  else:\n",
    "    C+=1\n",
    "  return B,C\n",
    "for i in range(len(S)):\n",
    "  if i==0:\n",
    "   A,B=AtoB(S[i],A,B)\n",
    "  if i==1:\n",
    "   A,C=AtoC(S[i],A,C)\n",
    "  if i==2:\n",
    "   B,C=BtoC(S[i],B,C)\n",
    "#二番目に大きいものを出力\n",
    "if A==1:\n",
    "  print(\"A\")\n",
    "elif B==1:\n",
    "  print(\"B\")\n",
    "elif C==1:\n",
    "  print(\"C\")"
   ]
  }
 ],
 "metadata": {
  "kernelspec": {
   "display_name": "Jupyter",
   "language": "python",
   "name": "python3"
  },
  "language_info": {
   "codemirror_mode": {
    "name": "ipython",
    "version": 3
   },
   "file_extension": ".py",
   "mimetype": "text/x-python",
   "name": "python",
   "nbconvert_exporter": "python",
   "pygments_lexer": "ipython3",
   "version": "3.12.0"
  }
 },
 "nbformat": 4,
 "nbformat_minor": 5
}
