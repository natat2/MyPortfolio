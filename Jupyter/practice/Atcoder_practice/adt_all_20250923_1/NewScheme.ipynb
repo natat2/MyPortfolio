{
 "cells": [
  {
   "cell_type": "markdown",
   "id": "9a89d488",
   "metadata": {},
   "source": [
    "\"125 175 250 300 400 525 600 650\"のように8個の整数が広義単調増加、100 以上675 以下、25 の倍数であることを確かめる"
   ]
  },
  {
   "cell_type": "code",
   "execution_count": null,
   "id": "a293214e",
   "metadata": {},
   "outputs": [],
   "source": [
    "S=list(map(int,input().split()))\n",
    "check=0\n",
    "count=0\n",
    "for i in range(len(S)):\n",
    "  if check<=S[i]:\n",
    "    if 100<=S[i] and S[i]<=675:\n",
    "      if S[i]%25==0:\n",
    "        count+=1\n",
    "  check=S[i]\n",
    "if count==8:\n",
    "  print(\"Yes\")\n",
    "else:\n",
    "  print(\"No\")"
   ]
  }
 ],
 "metadata": {
  "language_info": {
   "name": "python"
  }
 },
 "nbformat": 4,
 "nbformat_minor": 5
}
